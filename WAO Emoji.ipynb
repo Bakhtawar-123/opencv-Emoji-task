{
 "cells": [
  {
   "cell_type": "code",
   "execution_count": 5,
   "id": "b579e31d",
   "metadata": {},
   "outputs": [
    {
     "data": {
      "text/plain": [
       "-1"
      ]
     },
     "execution_count": 5,
     "metadata": {},
     "output_type": "execute_result"
    }
   ],
   "source": [
    "#wao emoji\n",
    "\n",
    "import numpy as np\n",
    "import cv2 as cv\n",
    "import pandas as pd\n",
    "import matplotlib.pyplot as plt\n",
    "\n",
    "blank_image=np.zeros((450,450,3),dtype='uint8')\n",
    "cv.imshow('blank window',blank_image)\n",
    "blank_image[:]=(255,0,0)\n",
    "circle=cv.circle(blank_image,(200,200),100,(0,200,255),thickness=cv.FILLED)\n",
    "cv.imshow('new image',blank_image)\n",
    "#cv.waitKey(0)\n",
    "\n",
    "circle1=cv.circle(circle,(180,200),5,(0,0,0),thickness=cv.FILLED)\n",
    "cv.imshow('1st eye',circle)\n",
    "\n",
    "circle2=cv.circle(circle,(230,200),5,(0,0,0),thickness=cv.FILLED)\n",
    "cv.imshow('2nd eye',circle)\n",
    "\n",
    "circle3=cv.circle(circle,(200,240),5,(0,0,0),2)\n",
    "cv.imshow('eye',circle)\n",
    "\n",
    "#line=cv.line(circle2,(230,230),(230,230),(0,0,0),9)\n",
    "#cv.imshow('line',line)\n",
    "#text\n",
    "text=cv.putText(circle,\"wao!\",(180,100),1,cv.FONT_HERSHEY_COMPLEX,(0,255,0),5)\n",
    "cv.imshow('text image',text)\n",
    "cv.waitKey(0)\n"
   ]
  },
  {
   "cell_type": "code",
   "execution_count": null,
   "id": "50f785c7",
   "metadata": {},
   "outputs": [],
   "source": []
  },
  {
   "cell_type": "code",
   "execution_count": null,
   "id": "974940d0",
   "metadata": {},
   "outputs": [],
   "source": []
  },
  {
   "cell_type": "code",
   "execution_count": null,
   "id": "67d51850",
   "metadata": {},
   "outputs": [],
   "source": []
  }
 ],
 "metadata": {
  "kernelspec": {
   "display_name": "Python 3 (ipykernel)",
   "language": "python",
   "name": "python3"
  },
  "language_info": {
   "codemirror_mode": {
    "name": "ipython",
    "version": 3
   },
   "file_extension": ".py",
   "mimetype": "text/x-python",
   "name": "python",
   "nbconvert_exporter": "python",
   "pygments_lexer": "ipython3",
   "version": "3.9.7"
  }
 },
 "nbformat": 4,
 "nbformat_minor": 5
}
